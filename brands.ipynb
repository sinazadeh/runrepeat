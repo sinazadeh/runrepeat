{
 "cells": [
  {
   "cell_type": "code",
   "execution_count": 1,
   "id": "4469f19d",
   "metadata": {},
   "outputs": [
    {
     "name": "stdout",
     "output_type": "stream",
     "text": [
      "Entries per brand (sorted): {'nike': 177, 'adidas': 106, 'new': 87, 'asics': 85, 'brooks': 57, 'hoka': 55, 'saucony': 49, 'altra': 40, 'on': 35, 'salomon': 28, 'reebok': 24, 'mizuno': 20, 'puma': 20, 'merrell': 20, 'under-armour': 13, 'jordan': 13, 'vans': 11, 'keen': 9, 'kailas': 8, 'skechers': 6, 'topo': 6, 'la-sportiva': 6, 'danner': 6, 'nobull': 5, 'inov-8': 5, 'nikecourt': 5, 'xero': 5, 'scarpa': 5, 'columbia': 5, 'teva': 5, 'air-jordan': 4, 'converse': 4, 'allbirds': 3, 'salewa': 3, 'wilson': 2, 'k-swiss': 2, 'veja': 2, 'the-north-face': 2, 'lems': 2, 'lowa': 2, 'timberland': 2, 'babolat': 1, 'hey-dude': 1, 'n-normal': 1, 'apl': 1, 'vibram': 1, 'chaco': 1, 'vasque': 1, 'asolo': 1, 'zamberlan': 1}\n"
     ]
    },
    {
     "data": {
      "text/plain": [
       "{'nike': 177,\n",
       " 'adidas': 106,\n",
       " 'new': 87,\n",
       " 'asics': 85,\n",
       " 'brooks': 57,\n",
       " 'hoka': 55,\n",
       " 'saucony': 49,\n",
       " 'altra': 40,\n",
       " 'on': 35,\n",
       " 'salomon': 28,\n",
       " 'reebok': 24,\n",
       " 'mizuno': 20,\n",
       " 'puma': 20,\n",
       " 'merrell': 20,\n",
       " 'under-armour': 13,\n",
       " 'jordan': 13,\n",
       " 'vans': 11,\n",
       " 'keen': 9,\n",
       " 'kailas': 8,\n",
       " 'skechers': 6,\n",
       " 'topo': 6,\n",
       " 'la-sportiva': 6,\n",
       " 'danner': 6,\n",
       " 'nobull': 5,\n",
       " 'inov-8': 5,\n",
       " 'nikecourt': 5,\n",
       " 'xero': 5,\n",
       " 'scarpa': 5,\n",
       " 'columbia': 5,\n",
       " 'teva': 5,\n",
       " 'air-jordan': 4,\n",
       " 'converse': 4,\n",
       " 'allbirds': 3,\n",
       " 'salewa': 3,\n",
       " 'wilson': 2,\n",
       " 'k-swiss': 2,\n",
       " 'veja': 2,\n",
       " 'the-north-face': 2,\n",
       " 'lems': 2,\n",
       " 'lowa': 2,\n",
       " 'timberland': 2,\n",
       " 'babolat': 1,\n",
       " 'hey-dude': 1,\n",
       " 'n-normal': 1,\n",
       " 'apl': 1,\n",
       " 'vibram': 1,\n",
       " 'chaco': 1,\n",
       " 'vasque': 1,\n",
       " 'asolo': 1,\n",
       " 'zamberlan': 1}"
      ]
     },
     "execution_count": 1,
     "metadata": {},
     "output_type": "execute_result"
    }
   ],
   "source": [
    "import json\n",
    "\n",
    "# Path to the JSON file\n",
    "file_path = \"runrepeat-shoes.json\"\n",
    "\n",
    "def count_entries_per_brand():\n",
    "    try:\n",
    "        # Read and parse the JSON file\n",
    "        with open(file_path, \"r\", encoding=\"utf-8\") as file:\n",
    "            data = json.load(file)\n",
    "\n",
    "        # Count entries for each brand\n",
    "        brand_counts = {}\n",
    "        for item in data:\n",
    "            brand = item[\"brand\"]\n",
    "            brand_counts[brand] = brand_counts.get(brand, 0) + 1\n",
    "\n",
    "        # Sort the counts from highest to lowest\n",
    "        sorted_counts = dict(sorted(brand_counts.items(), key=lambda x: x[1], reverse=True))\n",
    "\n",
    "        print(\"Entries per brand (sorted):\", sorted_counts)\n",
    "        return sorted_counts\n",
    "    except Exception as e:\n",
    "        print(\"Error reading or parsing the JSON file:\", e)\n",
    "\n",
    "# Run the function\n",
    "count_entries_per_brand()"
   ]
  }
 ],
 "metadata": {
  "kernelspec": {
   "display_name": "ml_env",
   "language": "python",
   "name": "python3"
  },
  "language_info": {
   "codemirror_mode": {
    "name": "ipython",
    "version": 3
   },
   "file_extension": ".py",
   "mimetype": "text/x-python",
   "name": "python",
   "nbconvert_exporter": "python",
   "pygments_lexer": "ipython3",
   "version": "3.12.9"
  }
 },
 "nbformat": 4,
 "nbformat_minor": 5
}
